{
 "cells": [
  {
   "cell_type": "code",
   "execution_count": 57,
   "id": "c69844d1",
   "metadata": {},
   "outputs": [],
   "source": [
    "import gym\n",
    "import numpy as np\n",
    "from matplotlib import pyplot as plt\n",
    "from pprint import pprint\n",
    "plt.rcParams[\"figure.figsize\"] = (8, 8)"
   ]
  },
  {
   "cell_type": "code",
   "execution_count": 2,
   "id": "99beee92",
   "metadata": {},
   "outputs": [],
   "source": [
    "import matplotlib.image as image"
   ]
  },
  {
   "cell_type": "code",
   "execution_count": 458,
   "id": "ed6bfb7b",
   "metadata": {},
   "outputs": [],
   "source": [
    "class MazeEnvironment(gym.Env):\n",
    "    \n",
    "    #field dimensions\n",
    "    WIDTH = 70\n",
    "    HEIGHT = 70\n",
    "    ACTIONS = {0: np.array([0, 1]),\n",
    "               1: np.array([0, -1]),\n",
    "               2: np.array([1, 0]),\n",
    "               3: np.array([-1, 0])}\n",
    "    rgb_values = {'red': [1,0,0],\n",
    "                  'blue': [0,0,1],\n",
    "                  'yellow': [1,1,0],\n",
    "                  'green': [0,1,0]}\n",
    "    \n",
    "    def find_pixels(self, colour):\n",
    "        coords = np.all(self.field == np.array([[self.rgb_values[colour]]]), axis=2).nonzero()\n",
    "        return set(zip(*coords))\n",
    "    \n",
    "    def standing_on(self):\n",
    "        x, y = self.state\n",
    "        if self.blank_mask[x,y]:\n",
    "            return 'blank'\n",
    "        elif self.walls_mask[x,y]:\n",
    "            return 'wall'\n",
    "        elif self.state in self.coins:\n",
    "            return 'coin'\n",
    "        elif self.state in self.exits:\n",
    "            return 'exit'\n",
    "        elif self.state in self.blues:\n",
    "            return 'blue'\n",
    "        elif self.state in self.start:\n",
    "            return 'start'\n",
    "        else:\n",
    "            raise Exception('Unknown pixel identifier at', self.state)\n",
    "            \n",
    "    def observation_func(self):\n",
    "        return None\n",
    "    \n",
    "    \n",
    "    def get_objects(self):\n",
    "        # finds the coordinates of the Seeker(red), coins(yellow), traps(blue) and exit(green)\n",
    "        self.walls_mask = np.all(self.field == np.array([[[1,1,1]]]), axis=2) # black\n",
    "        self.blank_mask = np.all(self.field == np.array([[[0,0,0]]]), axis=2) # white\n",
    "        self.coins = self.find_pixels(colour='yellow')\n",
    "        self.exits = self.find_pixels(colour='green')\n",
    "        self.blues = self.find_pixels(colour='blue')\n",
    "        self.start = self.find_pixels(colour='red')\n",
    "        \n",
    "    \n",
    "    # -----------------------------------\n",
    "    \n",
    "    def __init__(self, field):\n",
    "        self.field = field\n",
    "        # up down right left\n",
    "        self.action_space = gym.spaces.Discrete(4)\n",
    "        # distance to wall in four directions and flag \"what direction there's a coin instead of a wall\"\n",
    "        self.observation_space = gym.spaces.Box(low=np.array([0,0,0,0, 0], dtype=int), \n",
    "                                                high=np.array([self.WIDTH, self.WIDTH, self.HEIGHT, self.HEIGHT, 3]), dtype=int)\n",
    "    \n",
    "    def step(self, action):\n",
    "        done = False\n",
    "        reward = -1\n",
    "        self.state = tuple(np.array(self.state) + self.ACTIONS[action]) # apply action\n",
    "        \n",
    "        standing_on = self.standing_on()\n",
    "        if standing_on == 'wall':\n",
    "            done = True\n",
    "            reward = -100\n",
    "            print('Stepped on a Wall')\n",
    "        elif standing_on == 'coin' and not self.is_coin_collected[self.state]:\n",
    "            reward = 40\n",
    "            self.is_coin_collected[self.state] = True\n",
    "            print(f'Coin {self.state} is collected')\n",
    "        elif standing_on == 'exit':\n",
    "            done = True\n",
    "            reward = 0 if sum(self.is_coin_collected.values()) == 0 else 100\n",
    "        elif standing_on == 'blue':\n",
    "            print('Stepped on Blue')\n",
    "        \n",
    "        info = {'state': self.state, 'standing': standing_on}\n",
    "        return self.observation_func(), reward, done, info\n",
    "        \n",
    "    \n",
    "    def reset(self, start=None):\n",
    "        self.get_objects()\n",
    "        self.is_coin_collected = {coor: False for coor in self.coins}\n",
    "        \n",
    "        if start is None:\n",
    "            assert len(self.start) == 1, f'There must be only one red point, not {len(red_pixels)}'\n",
    "            self.state = tuple(self.start)[0] # current coordinates (x, y)\n",
    "        else:\n",
    "            self.state = start\n",
    "        return self.observation_func()"
   ]
  },
  {
   "cell_type": "code",
   "execution_count": 351,
   "id": "0c3e0cc8",
   "metadata": {
    "scrolled": true
   },
   "outputs": [
    {
     "name": "stdout",
     "output_type": "stream",
     "text": [
      "The Shape of the image is: (70, 70, 3)\n"
     ]
    }
   ],
   "source": [
    "img = image.imread('tracks/track1.png')[:,:,:3]\n",
    "print('The Shape of the image is:', img.shape)"
   ]
  },
  {
   "cell_type": "code",
   "execution_count": 495,
   "id": "e9477ff2",
   "metadata": {},
   "outputs": [],
   "source": [
    "env = MazeEnvironment(img)\n",
    "env.reset((8,12))"
   ]
  },
  {
   "cell_type": "code",
   "execution_count": 490,
   "id": "5c181bf8",
   "metadata": {
    "collapsed": true
   },
   "outputs": [
    {
     "data": {
      "text/plain": [
       "<matplotlib.image.AxesImage at 0x2be7c3646d0>"
      ]
     },
     "execution_count": 490,
     "metadata": {},
     "output_type": "execute_result"
    },
    {
     "data": {
      "image/png": "[encoded data removed]",
      "text/plain": [
       "<Figure size 576x576 with 1 Axes>"
      ]
     },
     "metadata": {
      "needs_background": "light"
     },
     "output_type": "display_data"
    }
   ],
   "source": [
    "plt.imshow(env.field)"
   ]
  },
  {
   "cell_type": "code",
   "execution_count": 494,
   "id": "dca67501",
   "metadata": {
    "scrolled": true
   },
   "outputs": [
    {
     "data": {
      "text/plain": [
       "(None, -1, False, {'state': (4, 12), 'standing': 'blank'})"
      ]
     },
     "execution_count": 494,
     "metadata": {},
     "output_type": "execute_result"
    }
   ],
   "source": [
    "env.step(3)"
   ]
  },
  {
   "cell_type": "code",
   "execution_count": 496,
   "id": "0f6acc10",
   "metadata": {},
   "outputs": [],
   "source": [
    "x, y = env.state"
   ]
  },
  {
   "cell_type": "code",
   "execution_count": 499,
   "id": "5f4938ef",
   "metadata": {},
   "outputs": [
    {
     "data": {
      "text/plain": [
       "array([False, False, False, False, False,  True,  True,  True,  True,\n",
       "        True, False, False, False, False,  True,  True,  True,  True,\n",
       "        True,  True,  True,  True,  True,  True,  True,  True,  True,\n",
       "        True,  True,  True,  True,  True,  True,  True,  True,  True,\n",
       "        True,  True,  True, False, False, False, False, False, False,\n",
       "       False, False, False, False, False, False,  True,  True,  True,\n",
       "       False, False, False, False, False, False, False,  True,  True,\n",
       "        True, False, False, False, False, False, False])"
      ]
     },
     "execution_count": 499,
     "metadata": {},
     "output_type": "execute_result"
    }
   ],
   "source": [
    "env.walls_mask[x, :]"
   ]
  },
  {
   "cell_type": "code",
   "execution_count": null,
   "id": "34266891",
   "metadata": {},
   "outputs": [],
   "source": []
  }
 ],
 "metadata": {
  "kernelspec": {
   "display_name": "Python 3 (ipykernel)",
   "language": "python",
   "name": "python3"
  },
  "language_info": {
   "codemirror_mode": {
    "name": "ipython",
    "version": 3
   },
   "file_extension": ".py",
   "mimetype": "text/x-python",
   "name": "python",
   "nbconvert_exporter": "python",
   "pygments_lexer": "ipython3",
   "version": "3.8.12"
  }
 },
 "nbformat": 4,
 "nbformat_minor": 5
}
