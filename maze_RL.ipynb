{
 "cells": [
  {
   "cell_type": "code",
   "execution_count": 1,
   "id": "c69844d1",
   "metadata": {},
   "outputs": [],
   "source": [
    "import gym\n",
    "import numpy as np\n",
    "from matplotlib import pyplot as plt\n",
    "from collections import defaultdict\n",
    "from pprint import pprint\n",
    "import matplotlib.image as image\n",
    "plt.rcParams[\"figure.figsize\"] = (8, 8)"
   ]
  },
  {
   "cell_type": "code",
   "execution_count": 2,
   "id": "ed6bfb7b",
   "metadata": {},
   "outputs": [],
   "source": [
    "class MazeEnvironment(gym.Env):\n",
    "    \n",
    "    ACTIONS = {0: np.array([0, 1]),\n",
    "               1: np.array([0, -1]),\n",
    "               2: np.array([1, 0]),\n",
    "               3: np.array([-1, 0])}\n",
    "    rgb_values = {'red': [1,0,0],\n",
    "                  'blue': [0,0,1],\n",
    "                  'yellow': [1,1,0],\n",
    "                  'green': [0,1,0]}\n",
    "    \n",
    "    def find_pixels(self, colour):\n",
    "        coords = np.all(self.field == np.array([[self.rgb_values[colour]]]), axis=2).nonzero()\n",
    "        return set(zip(*coords))\n",
    "    \n",
    "    def identify(self, pos):\n",
    "        x, y = pos\n",
    "        if (x >= self.WIDTH or y >= self.HEIGHT or x < 0 or y < 0):\n",
    "            return 'out_of_field'\n",
    "        if self.blank_mask[x,y]:\n",
    "            return 'blank'\n",
    "        elif self.walls_mask[x,y]:\n",
    "            return 'wall'\n",
    "        elif pos in self.coins:\n",
    "            return 'coin'\n",
    "        elif pos in self.exits:\n",
    "            return 'exit'\n",
    "        elif pos in self.blues:\n",
    "            return 'blue'\n",
    "        elif pos in self.start:\n",
    "            return 'start'\n",
    "        else:\n",
    "            raise Exception('Unknown pixel identifier at', pos)\n",
    "            \n",
    "    def observation_func(self):\n",
    "        x, y = self.state\n",
    "        f = 0\n",
    "        if (x+1,y) not in self.coins_collected and (x+1,y) in self.coins or \\\n",
    "        (x-1,y) not in self.coins_collected and (x-1,y) in self.coins or \\\n",
    "        (x,y+1) not in self.coins_collected and (x,y+1) in self.coins or \\\n",
    "        (x,y-1) not in self.coins_collected and (x,y-1) in self.coins:\n",
    "            f = 1\n",
    "        return x, y, f\n",
    "    \n",
    "    \n",
    "    def get_objects(self):\n",
    "        # finds the coordinates of the Seeker(red), coins(yellow), traps(blue) and exit(green)\n",
    "        self.walls_mask = np.all(self.field == np.array([[[1,1,1]]]), axis=2) # black\n",
    "        self.blank_mask = np.all(self.field == np.array([[[0,0,0]]]), axis=2) # white\n",
    "        self.coins = self.find_pixels(colour='yellow')\n",
    "        self.exits = self.find_pixels(colour='green')\n",
    "        self.blues = self.find_pixels(colour='blue')\n",
    "        self.start = self.find_pixels(colour='red')\n",
    "        \n",
    "    \n",
    "    # -----------------------------------\n",
    "    \n",
    "    def __init__(self, field):\n",
    "        self.field = field\n",
    "        self.HEIGHT, self.WIDTH, _ = self.field.shape \n",
    "        # up down right left\n",
    "        self.action_space = gym.spaces.Discrete(4)\n",
    "        # pos.x, pos.y, flag(is there a coin nereby)\n",
    "        self.observation_space = gym.spaces.Box(low=np.array([0,0,0], dtype=int), \n",
    "                                                    high=np.array([self.HEIGHT, self.WIDTH, 1], dtype=int))\n",
    "        self.reset()\n",
    "        \n",
    "        \n",
    "    def step(self, action):\n",
    "        done = False\n",
    "        reward = -1\n",
    "        self.state = tuple(np.array(self.state) + self.ACTIONS[action]) # apply action\n",
    "        \n",
    "        standing_on = self.identify(self.state)\n",
    "        if standing_on == 'wall':\n",
    "            done = True\n",
    "            reward = -100\n",
    "#             print('Stepped on a Wall')\n",
    "        elif standing_on == 'coin' and self.state not in self.coins_collected: \n",
    "            reward = 50\n",
    "            self.coins_collected.add(self.state)\n",
    "#             print(f'Coin {self.state} is collected')\n",
    "        elif standing_on == 'exit':\n",
    "            done = True\n",
    "            reward = 100\n",
    "        elif standing_on == 'blue':\n",
    "            pass\n",
    "        \n",
    "        observation = self.observation_func()\n",
    "        info = {'observation': self.state, 'standing': standing_on}\n",
    "        return observation, reward, done, info\n",
    "        \n",
    "    \n",
    "    def reset(self, start=None):\n",
    "        self.get_objects()\n",
    "        self.coins_collected = set()\n",
    "        \n",
    "        if start is None:\n",
    "            assert len(self.start) == 1, f'There must be only one red point, not {len(red_pixels)}'\n",
    "            self.state = tuple(self.start)[0] # current coordinates (x, y)\n",
    "        else:\n",
    "            self.state = start\n",
    "        return self.observation_func()\n",
    "    \n",
    "    def render(self, model=None, show_labels=True, flag=0):\n",
    "        if model is None:\n",
    "            plt.imshow(self.field)\n",
    "        else:\n",
    "            path = model.solve()\n",
    "            fig, ax = plt.subplots()\n",
    "            cmap = np.linspace([1,0,1], [0,1,1], len(path))\n",
    "            path_overlay = np.copy(self.field)\n",
    "            for ind, point in enumerate(path):\n",
    "                path_overlay[point[0], point[1], :] = cmap[ind]\n",
    "            if show_labels:\n",
    "                directions = np.argmax(model.Q[:,:,flag,:], axis=2)\n",
    "                mask = np.all(model.Q[:,:,flag,:] == np.array([[0,0,0,0]]), axis=2)\n",
    "                words = {2: 'down', 3: 'up', 1: 'left', 0: 'right'}\n",
    "                for (j,i),label in np.ndenumerate(directions):\n",
    "                    ax.text(i, j, f'{words[label]}\\n{label:.2f}' if not mask[j,i] else '?',\n",
    "                            ha='center', va='center', color='#86B0B8')\n",
    "            ax.imshow(path_overlay)\n",
    "            plt.show()"
   ]
  },
  {
   "cell_type": "code",
   "execution_count": 8,
   "id": "305271b4",
   "metadata": {},
   "outputs": [
    {
     "name": "stdout",
     "output_type": "stream",
     "text": [
      "The Shape of the image is: (20, 20, 3)\n"
     ]
    }
   ],
   "source": [
    "img = image.imread('tracks/track2.png')[:,:,:3]\n",
    "print('The Shape of the image is:', img.shape)\n",
    "env = MazeEnvironment(img)"
   ]
  },
  {
   "cell_type": "code",
   "execution_count": 9,
   "id": "4d15a310",
   "metadata": {},
   "outputs": [
    {
     "data": {
      "image/png": "[encoded data removed]",
      "text/plain": [
       "<Figure size 576x576 with 1 Axes>"
      ]
     },
     "metadata": {
      "needs_background": "light"
     },
     "output_type": "display_data"
    }
   ],
   "source": [
    "env.render()"
   ]
  }
 ],
 "metadata": {
  "kernelspec": {
   "display_name": "Python 3.8.12 ('base')",
   "language": "python",
   "name": "python3"
  },
  "language_info": {
   "codemirror_mode": {
    "name": "ipython",
    "version": 3
   },
   "file_extension": ".py",
   "mimetype": "text/x-python",
   "name": "python",
   "nbconvert_exporter": "python",
   "pygments_lexer": "ipython3",
   "version": "3.8.12"
  },
  "vscode": {
   "interpreter": {
    "hash": "49cb93f377a7abe7414b7b0f21fb3017538004a126cf690fb524202736b7fb92"
   }
  }
 },
 "nbformat": 4,
 "nbformat_minor": 5
}
