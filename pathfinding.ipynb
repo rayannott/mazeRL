{
 "cells": [
  {
   "cell_type": "code",
   "execution_count": 1,
   "metadata": {},
   "outputs": [],
   "source": [
    "import numpy as np\n",
    "from matplotlib import pyplot as plt\n",
    "import matplotlib.image as image\n",
    "plt.rcParams[\"figure.figsize\"] = (8, 8)\n",
    "\n",
    "from simple_maze import SimpleMaze"
   ]
  },
  {
   "cell_type": "markdown",
   "id": "37c857df",
   "metadata": {},
   "source": [
    "# Pathfinding algorithms implementation"
   ]
  },
  {
   "cell_type": "code",
   "execution_count": 42,
   "id": "6f6d93e6",
   "metadata": {},
   "outputs": [],
   "source": [
    "class BFS:\n",
    "    def __init__(self, maze: SimpleMaze):\n",
    "        self.maze = maze\n",
    "        self.for_path = None\n",
    "        self.start = self.maze.start\n",
    "        self.exits = self.maze.exits\n",
    "    \n",
    "    directions = {0: [0, 1],\n",
    "                  1: [0, -1],\n",
    "                  2: [1, 0],\n",
    "                  3: [-1, 0]}\n",
    "    \n",
    "    def find_path(self):\n",
    "        start = list(self.start)[0]\n",
    "        visited = set()\n",
    "        q = [start]  # this is the queue (position)\n",
    "        for_path = {start: None}\n",
    "        while q:\n",
    "            current_pos = q.pop(0)\n",
    "            if current_pos in visited:\n",
    "                continue\n",
    "            # print(current_pos)\n",
    "            x, y = current_pos\n",
    "            to_add = []\n",
    "            for delta in self.directions.values():\n",
    "                x_, y_ = x + delta[0], y + delta[1]\n",
    "                if (0 <= x_ < self.maze.WIDTH and 0 <= y_ < self.maze.HEIGHT) and (x_, y_) not in visited:\n",
    "                    if self.maze.field[x_, y_] == 0:\n",
    "                        to_add.append((x_, y_))\n",
    "                        for_path[(x_, y_)] = current_pos\n",
    "                    elif self.maze.field[x_, y_] == 3:\n",
    "                        self.chosen_exit = (x_, y_)\n",
    "                        for_path[(x_, y_)] = current_pos\n",
    "                        self.for_path = for_path\n",
    "                        return\n",
    "            visited.add(current_pos)\n",
    "            q.extend(to_add)\n",
    "        print('[find_path function] There is no path')\n",
    "        return\n",
    "    \n",
    "    def construct_path(self):\n",
    "        if self.for_path is not None:\n",
    "            path = []\n",
    "            pos = self.chosen_exit\n",
    "            start = self.start\n",
    "            while pos is not None:\n",
    "                path.append(pos)\n",
    "                pos = self.for_path[pos]\n",
    "            self.path = path[::-1]\n",
    "            return\n",
    "\n",
    "    def show_solution(self):\n",
    "        if self.for_path is not None:\n",
    "            self.maze.render(path=self.path)\n",
    "        else:\n",
    "            self.maze.render(path=None)"
   ]
  },
  {
   "cell_type": "code",
   "execution_count": 51,
   "metadata": {},
   "outputs": [],
   "source": [
    "img = image.imread('tracks/track6.png')[:,:,:3]\n",
    "maze = SimpleMaze(img)"
   ]
  },
  {
   "cell_type": "code",
   "execution_count": 52,
   "metadata": {},
   "outputs": [
    {
     "data": {
      "image/png": "[encoded data removed]",
      "text/plain": [
       "<Figure size 576x576 with 1 Axes>"
      ]
     },
     "metadata": {
      "needs_background": "light"
     },
     "output_type": "display_data"
    }
   ],
   "source": [
    "solver = BFS(maze)\n",
    "solver.find_path()\n",
    "solver.construct_path()\n",
    "solver.show_solution()"
   ]
  },
  {
   "cell_type": "code",
   "execution_count": null,
   "metadata": {},
   "outputs": [],
   "source": []
  }
 ],
 "metadata": {
  "kernelspec": {
   "display_name": "Python 3.8.12 ('base')",
   "language": "python",
   "name": "python3"
  },
  "language_info": {
   "codemirror_mode": {
    "name": "ipython",
    "version": 3
   },
   "file_extension": ".py",
   "mimetype": "text/x-python",
   "name": "python",
   "nbconvert_exporter": "python",
   "pygments_lexer": "ipython3",
   "version": "3.8.12"
  },
  "orig_nbformat": 4,
  "vscode": {
   "interpreter": {
    "hash": "49cb93f377a7abe7414b7b0f21fb3017538004a126cf690fb524202736b7fb92"
   }
  }
 },
 "nbformat": 4,
 "nbformat_minor": 2
}
